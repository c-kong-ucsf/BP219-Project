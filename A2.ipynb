{
  "nbformat": 4,
  "nbformat_minor": 0,
  "metadata": {
    "colab": {
      "provenance": [],
      "collapsed_sections": [],
      "authorship_tag": "ABX9TyNlUSKgSnOsNrsXyqHt2qvY",
      "include_colab_link": true
    },
    "kernelspec": {
      "name": "python3",
      "display_name": "Python 3"
    },
    "language_info": {
      "name": "python"
    }
  },
  "cells": [
    {
      "cell_type": "markdown",
      "metadata": {
        "id": "view-in-github",
        "colab_type": "text"
      },
      "source": [
        "<a href=\"https://colab.research.google.com/github/c-kong-ucsf/c-kong-ucsf.github.io/blob/main/A2.ipynb\" target=\"_parent\"><img src=\"https://colab.research.google.com/assets/colab-badge.svg\" alt=\"Open In Colab\"/></a>"
      ]
    },
    {
      "cell_type": "code",
      "execution_count": null,
      "metadata": {
        "id": "AFyOht4Uirk0"
      },
      "outputs": [],
      "source": [
        "#!/usr/bin/env python\n",
        "import copy\n",
        "import numpy as np\n",
        "from write_pdb import PDBio\n",
        "\n",
        "def fit_rms(ref_c,c):\n",
        "    # move geometric center to the origin\n",
        "    ref_trans = np.average(ref_c, axis=0)\n",
        "    ref_c = ref_c - ref_trans\n",
        "    c_trans = np.average(c, axis=0)\n",
        "    c = c - c_trans\n",
        "\n",
        "    # covariance matrix\n",
        "    C = np.dot(c.T, ref_c)\n",
        "\n",
        "    # Singular Value Decomposition\n",
        "    (r1, s, r2) = np.linalg.svd(C)\n",
        "\n",
        "    # compute sign (remove mirroring)\n",
        "    if np.linalg.det(C) < 0:\n",
        "        r2[2,:] *= -1.0\n",
        "    U = np.dot(r1, r2)\n",
        "    return (c_trans, U, ref_trans)\n",
        "\n",
        "class RMSDcalculator:\n",
        "    def __init__(self, atoms1, atoms2, name=None):\n",
        "        xyz1 = self.get_xyz(atoms1, name=name)\n",
        "        xyz2 = self.get_xyz(atoms2, name=name)\n",
        "        self.set_rmsd(xyz1, xyz2)\n",
        "\n",
        "    def get_xyz(self, atoms, name=None):\n",
        "        xyz = []\n",
        "        for atom in atoms:\n",
        "            if name:\n",
        "                if atom.name != name: continue\n",
        "            xyz.append([atom.x, atom.y, atom.z])\n",
        "        return np.array(xyz)\n",
        "\n",
        "    def set_rmsd(self, c1, c2):\n",
        "        self.rmsd = 0.0\n",
        "        self.c_trans, self.U, self.ref_trans = fit_rms(c1, c2)\n",
        "        new_c2 = np.dot(c2 - self.c_trans, self.U) + self.ref_trans\n",
        "        self.rmsd = np.sqrt( np.average( np.sum( ( c1 - new_c2 )**2, axis=1 ) ) )\n",
        "\n",
        "    def get_aligned_coord(self, atoms, name=None):\n",
        "        new_c2 = copy.deepcopy(atoms)\n",
        "        for atom in new_c2:\n",
        "            atom.x, atom.y, atom.z = np.dot(np.array([atom.x, atom.y, atom.z]) - self.c_trans, self.U) + self.ref_trans\n",
        "        return new_c2\n",
        "\n",
        "if __name__ == '__main__':\n",
        "    pdbf1 = '1y3q.pdb'; pdbf2 = '1y3n.pdb'\n",
        "    pdb1 = PDBio(pdbf1); pdb2 = PDBio(pdbf2)\n",
        "    atoms1 = pdb1.get_atoms(to_dict=False); atoms2 = pdb2.get_atoms(to_dict=False)\n",
        "\n",
        "    RMSDcalculator = RMSDcalculator(atoms1, atoms2, name='CA')\n",
        "    rmsd = RMSDcalculator.rmsd\n",
        "    new_atoms = RMSDcalculator.get_aligned_coord(atoms2)\n",
        "    pdb2.write_pdb('aligned_%s' % pdbf2, new_atoms)\n",
        "    print('RMSD : %8.3f' % rmsd)\n",
        "    print('New structure file: ', 'aligned_%s' % pdbf2)"
      ]
    }
  ]
}