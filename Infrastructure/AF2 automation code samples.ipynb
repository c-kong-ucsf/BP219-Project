{
 "cells": [
  {
   "cell_type": "code",
   "execution_count": null,
   "id": "9b05738e",
   "metadata": {},
   "outputs": [],
   "source": [
    "# Code useful for implementation"
   ]
  },
  {
   "cell_type": "code",
   "execution_count": null,
   "id": "04fdebaf",
   "metadata": {},
   "outputs": [],
   "source": [
    "# How to move output files to directory named \"TEST\"\n",
    "# Need to make directory first with os.mkdir()\n",
    "\n",
    "import os\n",
    "from os.path import exists\n",
    "\n",
    "ex_end_path = \"\"\n",
    "\n",
    "for index in range(1,6):\n",
    "  end_file = \"_unrelaxed_rank_1_model_\"+str(index)+\".pdb\"\n",
    "  test_path = \"/content/\" + jobname + end_file\n",
    "  if (os.path.exists(test_path)):\n",
    "    ex_end_path = end_file\n",
    "\n",
    "old_path = \"/content/\" + jobname + ex_end_path\n",
    "new_path = \"/content/TEST/\" + jobname + ex_end_path\n",
    "\n",
    "os.replace(old_path,new_path)"
   ]
  }
 ],
 "metadata": {
  "kernelspec": {
   "display_name": "Python 3 (ipykernel)",
   "language": "python",
   "name": "python3"
  },
  "language_info": {
   "codemirror_mode": {
    "name": "ipython",
    "version": 3
   },
   "file_extension": ".py",
   "mimetype": "text/x-python",
   "name": "python",
   "nbconvert_exporter": "python",
   "pygments_lexer": "ipython3",
   "version": "3.10.4"
  }
 },
 "nbformat": 4,
 "nbformat_minor": 5
}
