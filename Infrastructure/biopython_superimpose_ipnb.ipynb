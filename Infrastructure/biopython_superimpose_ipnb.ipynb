{
 "cells": [
  {
   "cell_type": "markdown",
   "metadata": {
    "colab_type": "text",
    "id": "view-in-github"
   },
   "source": [
    "<a href=\"https://colab.research.google.com/github/c-kong-ucsf/c-kong-ucsf.github.io/blob/main/biopython_superimpose_ipnb.ipynb\" target=\"_parent\"><img src=\"https://colab.research.google.com/assets/colab-badge.svg\" alt=\"Open In Colab\"/></a>"
   ]
  },
  {
   "cell_type": "code",
   "execution_count": 21,
   "metadata": {
    "colab": {
     "base_uri": "https://localhost:8080/",
     "height": 0
    },
    "id": "5RFC-fJ0njEb",
    "outputId": "a48854d1-a2a6-43fe-8a29-a5b09d8504dd"
   },
   "outputs": [
    {
     "name": "stdout",
     "output_type": "stream",
     "text": [
      "Drive already mounted at /content/drive; to attempt to forcibly remount, call drive.mount(\"/content/drive\", force_remount=True).\n"
     ]
    }
   ],
   "source": [
    "from google.colab import drive\n",
    "drive.mount('/content/drive')"
   ]
  },
  {
   "cell_type": "code",
   "execution_count": 2,
   "metadata": {
    "colab": {
     "base_uri": "https://localhost:8080/",
     "height": 0
    },
    "id": "IpIKw6axOsDi",
    "outputId": "c4dcc936-0dd8-4f27-9761-c2f2437baa65"
   },
   "outputs": [
    {
     "name": "stdout",
     "output_type": "stream",
     "text": [
      "Looking in indexes: https://pypi.org/simple, https://us-python.pkg.dev/colab-wheels/public/simple/\n",
      "Collecting Bio\n",
      "  Downloading bio-1.4.0-py3-none-any.whl (270 kB)\n",
      "\u001b[K     |████████████████████████████████| 270 kB 4.1 MB/s \n",
      "\u001b[?25hRequirement already satisfied: tqdm in /usr/local/lib/python3.7/dist-packages (from Bio) (4.64.1)\n",
      "Requirement already satisfied: requests in /usr/local/lib/python3.7/dist-packages (from Bio) (2.23.0)\n",
      "Collecting mygene\n",
      "  Downloading mygene-3.2.2-py2.py3-none-any.whl (5.4 kB)\n",
      "Collecting biopython>=1.79\n",
      "  Downloading biopython-1.79-cp37-cp37m-manylinux_2_5_x86_64.manylinux1_x86_64.whl (2.3 MB)\n",
      "\u001b[K     |████████████████████████████████| 2.3 MB 59.4 MB/s \n",
      "\u001b[?25hRequirement already satisfied: numpy in /usr/local/lib/python3.7/dist-packages (from biopython>=1.79->Bio) (1.21.6)\n",
      "Collecting biothings-client>=0.2.6\n",
      "  Downloading biothings_client-0.2.6-py2.py3-none-any.whl (37 kB)\n",
      "Requirement already satisfied: urllib3!=1.25.0,!=1.25.1,<1.26,>=1.21.1 in /usr/local/lib/python3.7/dist-packages (from requests->Bio) (1.24.3)\n",
      "Requirement already satisfied: idna<3,>=2.5 in /usr/local/lib/python3.7/dist-packages (from requests->Bio) (2.10)\n",
      "Requirement already satisfied: chardet<4,>=3.0.2 in /usr/local/lib/python3.7/dist-packages (from requests->Bio) (3.0.4)\n",
      "Requirement already satisfied: certifi>=2017.4.17 in /usr/local/lib/python3.7/dist-packages (from requests->Bio) (2022.6.15)\n",
      "Installing collected packages: biothings-client, mygene, biopython, Bio\n",
      "Successfully installed Bio-1.4.0 biopython-1.79 biothings-client-0.2.6 mygene-3.2.2\n"
     ]
    }
   ],
   "source": [
    "pip install Bio"
   ]
  },
  {
   "cell_type": "code",
   "execution_count": 195,
   "metadata": {
    "id": "SgFuFerCOjPE"
   },
   "outputs": [],
   "source": [
    "import Bio\n",
    "from Bio import *\n",
    "import numpy\n",
    "import re\n",
    "import glob \n",
    "import os\n",
    "from pathlib import Path\n"
   ]
  },
  {
   "cell_type": "markdown",
   "metadata": {
    "id": "-0at9U8pn1d9"
   },
   "source": [
    "cd /content/drive/MyDrive/Intro to Programming Project"
   ]
  },
  {
   "cell_type": "markdown",
   "metadata": {
    "id": "cB8sqgSqUuvm"
   },
   "source": [
    "counting residues in default pdb(w/o tags) to determine which residues to run superimposition on in biopython)"
   ]
  },
  {
   "cell_type": "code",
   "execution_count": 55,
   "metadata": {
    "id": "n3iJkMjYlpn7"
   },
   "outputs": [],
   "source": [
    "parser= PDB.PDBParser()"
   ]
  },
  {
   "cell_type": "code",
   "execution_count": 161,
   "metadata": {
    "colab": {
     "base_uri": "https://localhost:8080/",
     "height": 0
    },
    "id": "AkSmkfespGOC",
    "outputId": "fbbcd26a-ba94-4d3f-e501-aad0f49c6662"
   },
   "outputs": [
    {
     "name": "stdout",
     "output_type": "stream",
     "text": [
      "Residues:  749\n",
      "Other:     0\n",
      "Residues2: 749\n",
      "Other2:    0\n"
     ]
    }
   ],
   "source": [
    "ref_structure = parser.get_structure(\"reference\", \"rank_1/a_4f680_unrelaxed_rank_1_model_3.pdb\")\n",
    "\n",
    "model = ref_structure[0]\n",
    "res_no= 0\n",
    "non_resi = 0\n",
    "\n",
    "for model in ref_structure:\n",
    "    for chain in model:\n",
    "        for r in chain.get_residues():\n",
    "            if r.id[0] == ' ':\n",
    "                res_no +=1\n",
    "            else:\n",
    "                non_resi +=1\n",
    "\n",
    "print (\"Residues:  %i\" % (res_no))\n",
    "print (\"Other:     %i\" % (non_resi))\n",
    "res_no2 = 0\n",
    "non_resi2 = 0\n",
    "for model in ref_structure:\n",
    "    for residue in model.get_residues():\n",
    "        if PDB.is_aa(residue):\n",
    "            res_no2 += 1\n",
    "\n",
    "        else:\n",
    "            non_resi2 += 1\n",
    "\n",
    "print (\"Residues2: %i\" % (res_no2))\n",
    "print (\"Other2:    %i\" % (non_resi2))\n",
    "\n",
    "res_count= res_no\n"
   ]
  },
  {
   "cell_type": "markdown",
   "metadata": {
    "id": "hMSrY6jcVIWy"
   },
   "source": [
    "running superimposition with biopython"
   ]
  },
  {
   "cell_type": "code",
   "execution_count": 177,
   "metadata": {
    "colab": {
     "base_uri": "https://localhost:8080/",
     "height": 0
    },
    "id": "sdDuaZ1hTXXd",
    "outputId": "d5c20f8b-6cb0-4e5b-dd52-8a1e9850447f"
   },
   "outputs": [
    {
     "name": "stdout",
     "output_type": "stream",
     "text": [
      "5.561542807408106\n"
     ]
    }
   ],
   "source": [
    "# Select what residues numbers you wish to align\n",
    "# and put them in a list\n",
    "start_id = 1\n",
    "end_id   = res_no\n",
    "atoms_to_be_aligned = range(start_id, end_id + 1)\n",
    "\n",
    "# Get the structures\n",
    "ref_structure = parser.get_structure(\"reference\", \"rank_1/a_4f680_unrelaxed_rank_1_model_3.pdb\")\n",
    "sample_structure = parser.get_structure(\"sample\", \"rank_1/a1_9b696_unrelaxed_rank_1_model_3.pdb\")\n",
    "\n",
    "# Use the first model in the pdb-files for alignment\n",
    "# Change the number 0 if you want to align to another structure\n",
    "ref_model    = ref_structure[0]\n",
    "sample_model = sample_structure[0]\n",
    "\n",
    "# Make a list of the atoms (in the structures) you wish to align.\n",
    "# In this case we use CA atoms whose index is in the specified range\n",
    "ref_atoms = []\n",
    "sample_atoms = []\n",
    "\n",
    "# Iterate of all chains in the model in order to find all residues\n",
    "for ref_chain in ref_model:\n",
    "  # Iterate of all residues in each model in order to find proper atoms\n",
    "  for ref_res in ref_chain:\n",
    "    # Check if residue number ( .get_id() ) is in the list\n",
    "    if ref_res.get_id()[1] in atoms_to_be_aligned:\n",
    "      # Append CA atom to list\n",
    "      ref_atoms.append(ref_res['CA'])\n",
    "\n",
    "# Do the same for the sample structure\n",
    "for sample_chain in sample_model:\n",
    "  for sample_res in sample_chain:\n",
    "    if sample_res.get_id()[1] in atoms_to_be_aligned:\n",
    "      sample_atoms.append(sample_res['CA'])\n",
    "\n",
    "# Now we initiate the superimposer:\n",
    "super_imposer = Bio.PDB.Superimposer()\n",
    "super_imposer.set_atoms(ref_atoms, sample_atoms)\n",
    "super_imposer.apply(sample_model.get_atoms())\n",
    "\n",
    "# Print RMSD:\n",
    "print(super_imposer.rms)\n",
    "a1_RMSD= super_imposer.rms\n",
    "\n",
    "# Save the aligned version of 1UBQ.pdb\n",
    "io = Bio.PDB.PDBIO()\n",
    "io.set_structure(sample_structure) \n",
    "io.save(\"a1.pdb\")"
   ]
  },
  {
   "cell_type": "code",
   "execution_count": 176,
   "metadata": {
    "colab": {
     "base_uri": "https://localhost:8080/",
     "height": 0
    },
    "id": "BidRLEvJV2xd",
    "outputId": "9c1fa1e1-3567-4669-d5a7-3b42cd382789"
   },
   "outputs": [
    {
     "name": "stdout",
     "output_type": "stream",
     "text": [
      "5.561542807408106\n"
     ]
    }
   ],
   "source": [
    "print(a1_RMSD)"
   ]
  },
  {
   "cell_type": "markdown",
   "metadata": {
    "id": "4e5MnGxPgeTR"
   },
   "source": [
    "working on FOR loop to iterate RMSD calc over  a list of tagged PDBs vs reference structure\n"
   ]
  },
  {
   "cell_type": "code",
   "execution_count": null,
   "metadata": {
    "id": "HXWY4NwMiWEu"
   },
   "outputs": [],
   "source": [
    "# MAKING PRACTICE FOLDER FULL OF tagged pdbs"
   ]
  },
  {
   "cell_type": "code",
   "execution_count": 184,
   "metadata": {
    "id": "yckf3-VRi3-K"
   },
   "outputs": [],
   "source": [
    "mkdir tagged_structures"
   ]
  },
  {
   "cell_type": "code",
   "execution_count": 192,
   "metadata": {
    "id": "6GoJuAvmifDg"
   },
   "outputs": [],
   "source": [
    "cp a1_9b696_unrelaxed_rank_1_model_3.pdb a2_40a58_unrelaxed_rank_1_model_3.pdb a3_d5ba0_unrelaxed_rank_1_model_3.pdb a4_3c7c2_unrelaxed_rank_1_model_5.pdb ../tagged_structures"
   ]
  },
  {
   "cell_type": "code",
   "execution_count": 198,
   "metadata": {
    "colab": {
     "base_uri": "https://localhost:8080/"
    },
    "id": "yeAYTr9loylD",
    "outputId": "e3e250d2-1403-43ba-a083-6b4969d361da"
   },
   "outputs": [
    {
     "name": "stdout",
     "output_type": "stream",
     "text": [
      "a1.pdb                      pymol_imp.ipynb      rmsd_wa.ipynb\n",
      "A2.ipynb                    \u001b[0m\u001b[01;34mrank_1\u001b[0m/              \u001b[01;34mtagged_structures\u001b[0m/\n",
      "biopython_superimpose.ipnb  rmsd_eval.ipynb\n",
      "colabfold_imp.ipynb         rmsd_pack_imp.ipynb\n"
     ]
    }
   ],
   "source": [
    "ls"
   ]
  },
  {
   "cell_type": "code",
   "execution_count": 216,
   "metadata": {
    "colab": {
     "base_uri": "https://localhost:8080/"
    },
    "id": "ZpXKwZ96iLse",
    "outputId": "c937c48a-81e1-4d30-eda2-71a15515653f"
   },
   "outputs": [
    {
     "name": "stdout",
     "output_type": "stream",
     "text": [
      "5.561542807408106\n",
      "3.878207090476452\n",
      "2.327395039696388\n",
      "4.219305812849976\n"
     ]
    }
   ],
   "source": [
    "# Select what residues numbers you wish to align\n",
    "# and put them in a list\n",
    "start_id = 1\n",
    "end_id   = res_no\n",
    "atoms_to_be_aligned = range(start_id, end_id + 1)\n",
    "values=[]\n",
    "\n",
    "# for loop to iterate through tag PDB structures\n",
    "for filename in os.listdir('tagged_structures/'):\n",
    "  f = os.path.join('tagged_structures/' , filename)\n",
    "\n",
    "  # Get the structures\n",
    "  ref_structure = parser.get_structure(\"reference\", \"rank_1/a_4f680_unrelaxed_rank_1_model_3.pdb\")\n",
    "  sample_structure = parser.get_structure(\"sample\", f)\n",
    "\n",
    "  # Use the first model in the pdb-files for alignment\n",
    "  # Change the number 0 if you want to align to another structure\n",
    "  ref_model    = ref_structure[0]\n",
    "  sample_model = sample_structure[0]\n",
    "\n",
    "  # Make a list of the atoms (in the structures) you wish to align.\n",
    "  # In this case we use CA atoms whose index is in the specified range\n",
    "  ref_atoms = []\n",
    "  sample_atoms = []\n",
    "\n",
    "  # Iterate of all chains in the model in order to find all residues\n",
    "  for ref_chain in ref_model:\n",
    "    # Iterate of all residues in each model in order to find proper atoms\n",
    "    for ref_res in ref_chain:\n",
    "      # Check if residue number ( .get_id() ) is in the list\n",
    "      if ref_res.get_id()[1] in atoms_to_be_aligned:\n",
    "        # Append CA atom to list\n",
    "        ref_atoms.append(ref_res['CA'])\n",
    "\n",
    "  # Do the same for the sample structure\n",
    "  for sample_chain in sample_model:\n",
    "    for sample_res in sample_chain:\n",
    "      if sample_res.get_id()[1] in atoms_to_be_aligned:\n",
    "        sample_atoms.append(sample_res['CA'])\n",
    "\n",
    "  # Now we initiate the superimposer:\n",
    "  super_imposer = Bio.PDB.Superimposer()\n",
    "  super_imposer.set_atoms(ref_atoms, sample_atoms)\n",
    "  super_imposer.apply(sample_model.get_atoms())\n",
    "\n",
    "  # Print RMSD:\n",
    "  print(super_imposer.rms)\n",
    "  values.append(super_imposer.rms)\n",
    "\n",
    "\n",
    "  #a1_RMSD= super_imposer.rms\n",
    "\n",
    "  # Save the aligned version of 1UBQ.pdb\n",
    "  #io = Bio.PDB.PDBIO()\n",
    "  #io.set_structure(sample_structure) \n",
    "  #io.save(\"a1.pdb\")"
   ]
  },
  {
   "cell_type": "code",
   "execution_count": 219,
   "metadata": {
    "id": "TT7-dWrB6_uT"
   },
   "outputs": [],
   "source": [
    "import pandas as pd\n"
   ]
  },
  {
   "cell_type": "code",
   "execution_count": 226,
   "metadata": {
    "id": "SLoBKMng5-Sk"
   },
   "outputs": [],
   "source": [
    "#assembling pandas dataframe \n",
    "import pandas as pd\n",
    "data=['6XHIS', 'CBP', 'CBD', 'mNG']\n",
    "df= pd.DataFrame(data)\n",
    "\n",
    "#appending rmsd values to df\n",
    "df['RMSD_values']= values\n"
   ]
  },
  {
   "cell_type": "code",
   "execution_count": 227,
   "metadata": {
    "colab": {
     "base_uri": "https://localhost:8080/"
    },
    "id": "bbRL25004pe_",
    "outputId": "9fab958a-b4be-479c-a11c-b000dd652f6f"
   },
   "outputs": [
    {
     "name": "stdout",
     "output_type": "stream",
     "text": [
      "       0  RMSD_values\n",
      "0  6XHIS     5.561543\n",
      "1    CBP     3.878207\n",
      "2    CBD     2.327395\n",
      "3    mNG     4.219306\n"
     ]
    }
   ],
   "source": [
    "print(df)"
   ]
  },
  {
   "cell_type": "code",
   "execution_count": null,
   "metadata": {
    "id": "jSQErNSi82tX"
   },
   "outputs": [],
   "source": []
  },
  {
   "cell_type": "code",
   "execution_count": null,
   "metadata": {
    "id": "9gbL8A5mgdY4"
   },
   "outputs": [],
   "source": [
    "#sorted output\n",
    "5.561542807408106\n",
    "3.878207090476452\n",
    "2.327395039696388\n",
    "4.219305812849976"
   ]
  },
  {
   "cell_type": "code",
   "execution_count": 222,
   "metadata": {
    "colab": {
     "base_uri": "https://localhost:8080/"
    },
    "id": "Vvakc0yI15xL",
    "outputId": "96524ec8-b660-42c2-bce8-a7db08ede44c"
   },
   "outputs": [
    {
     "name": "stdout",
     "output_type": "stream",
     "text": [
      "0    6XHIS\n",
      "1      CBP\n",
      "2      CBD\n",
      "3      mNG\n",
      "dtype: object\n"
     ]
    }
   ],
   "source": [
    "print(df)"
   ]
  },
  {
   "cell_type": "code",
   "execution_count": 213,
   "metadata": {
    "colab": {
     "base_uri": "https://localhost:8080/"
    },
    "id": "AS1r6VcC2lh1",
    "outputId": "0ebd3292-bb62-4f12-ad98-362bd2450d97"
   },
   "outputs": [
    {
     "name": "stdout",
     "output_type": "stream",
     "text": [
      "['a1_9b696_unrelaxed_rank_1_model_3.pdb', 'a2_40a58_unrelaxed_rank_1_model_3.pdb', 'a3_d5ba0_unrelaxed_rank_1_model_3.pdb', 'a4_3c7c2_unrelaxed_rank_1_model_5.pdb', 'a_4f680_unrelaxed_rank_1_model_3.pdb']\n"
     ]
    }
   ],
   "source": [
    "content_sorted=sorted(os.listdir('rank_1'))\n",
    "print(content_sorted)"
   ]
  },
  {
   "cell_type": "code",
   "execution_count": 136,
   "metadata": {
    "colab": {
     "base_uri": "https://localhost:8080/",
     "height": 0
    },
    "id": "zivvcLNk41Ue",
    "outputId": "e3588ce8-3481-4b99-cd79-91a9fa96f271"
   },
   "outputs": [
    {
     "name": "stdout",
     "output_type": "stream",
     "text": [
      "rank1\n"
     ]
    }
   ],
   "source": [
    "data_folder = str(Path('rank1/'))\n",
    "print(data_folder)"
   ]
  },
  {
   "cell_type": "code",
   "execution_count": 175,
   "metadata": {
    "id": "yS0rYxrBVumE"
   },
   "outputs": [],
   "source": [
    "a1_RMSD= super_imposer.rms"
   ]
  },
  {
   "cell_type": "code",
   "execution_count": 127,
   "metadata": {
    "colab": {
     "base_uri": "https://localhost:8080/",
     "height": 133
    },
    "id": "7vHKPOrxvP98",
    "outputId": "84e46fea-79a6-4ceb-bd56-d65e4bb4cb75"
   },
   "outputs": [
    {
     "ename": "SyntaxError",
     "evalue": "ignored",
     "output_type": "error",
     "traceback": [
      "\u001b[0;36m  File \u001b[0;32m\"<ipython-input-127-c8aac5606989>\"\u001b[0;36m, line \u001b[0;32m2\u001b[0m\n\u001b[0;31m    cd data_folder\u001b[0m\n\u001b[0m                 ^\u001b[0m\n\u001b[0;31mSyntaxError\u001b[0m\u001b[0;31m:\u001b[0m invalid syntax\n"
     ]
    }
   ],
   "source": [
    "data_folder = str(Path('rank1/'))\n",
    "cd data_folder\n",
    "filenames = os.listdir(rank1)\n",
    "\n",
    "#file_to_open= data_folder / filename.startswith([A-Za-z]+_) and filename.endswith(\".pdb\")\n",
    "\n",
    "for file in filenames:\n",
    "  # search the given pattern in the lines\n",
    "  match= re.search(\"^[A-Za-z]+_.{30}.pdb\", file)\n",
    "\n",
    "  #if match is found\n",
    "  if match:\n",
    "    match = inital_input\n",
    "\n",
    "\n",
    "\n",
    "#re.findall('^[A-Za-z]+_.{30}.pdb')"
   ]
  },
  {
   "cell_type": "code",
   "execution_count": 4,
   "metadata": {
    "colab": {
     "base_uri": "https://localhost:8080/",
     "height": 0
    },
    "id": "HFh7GIZIkUqK",
    "outputId": "f2163441-0a2c-4804-97b1-5234edc3e714"
   },
   "outputs": [
    {
     "name": "stdout",
     "output_type": "stream",
     "text": [
      "\u001b[0m\u001b[01;34msample_data\u001b[0m/\n"
     ]
    }
   ],
   "source": [
    "start_id = 1\n",
    "end_id ="
   ]
  },
  {
   "cell_type": "code",
   "execution_count": 79,
   "metadata": {
    "id": "O-wkL_PrkU-V"
   },
   "outputs": [],
   "source": [
    "data_folder= Path('/rank1')\n"
   ]
  }
 ],
 "metadata": {
  "colab": {
   "authorship_tag": "ABX9TyNa2JLiH0tWibTeZjqgFyyq",
   "collapsed_sections": [],
   "include_colab_link": true,
   "mount_file_id": "1wUWbsyRpVVlc6VnmECaLrqK4lloi8Mez",
   "provenance": []
  },
  "kernelspec": {
   "display_name": "Python 3 (ipykernel)",
   "language": "python",
   "name": "python3"
  },
  "language_info": {
   "codemirror_mode": {
    "name": "ipython",
    "version": 3
   },
   "file_extension": ".py",
   "mimetype": "text/x-python",
   "name": "python",
   "nbconvert_exporter": "python",
   "pygments_lexer": "ipython3",
   "version": "3.10.4"
  }
 },
 "nbformat": 4,
 "nbformat_minor": 1
}
