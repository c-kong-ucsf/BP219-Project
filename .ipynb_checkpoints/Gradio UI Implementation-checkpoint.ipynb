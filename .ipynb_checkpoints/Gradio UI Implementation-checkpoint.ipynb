{
 "cells": [
  {
   "cell_type": "code",
   "execution_count": 1,
   "id": "e34940fe",
   "metadata": {},
   "outputs": [],
   "source": [
    "import gradio  as gr"
   ]
  },
  {
   "cell_type": "code",
   "execution_count": 24,
   "id": "6e5eca22",
   "metadata": {},
   "outputs": [],
   "source": [
    "tag_sequences = {\"6X His\":\"HHHHHH\", \"CBP\":\"KRRWKKNFIAVSAANRFKKISSSGAL\",\n",
    "                     \"CBD + 3G\": \"GGGTNPGVSAWQVNTAYTAGQLVTYNGKTYKCLQPHTSLAGWEPSNVPALWQLQ\",\n",
    "                     \"mNEONGreen + 5G\": \"GGGGGMVSKGEEDNMASLPATHELHIFGSINGVDFDMVGQGTGNPNDGYEELNLKSTKGDLQFSPWILVPHIGYGFHQYLPYPDGMSPFQAAMVDGSGYQVHRTMQFEDGASLTVNYRYTYEGSHIKGEAQVKGTGFPADGPVMTNSLTAADWCRSKKTYPNDKTIISTFKWSYTTGNGKRYRSTARTTYTFAKPMAANYLKNQPMYVFRKTELKHSKTELNFKEWQKAFTDVMGMDELYK\"\n",
    "                     }"
   ]
  },
  {
   "cell_type": "code",
   "execution_count": 25,
   "id": "33c4693f",
   "metadata": {},
   "outputs": [
    {
     "name": "stdout",
     "output_type": "stream",
     "text": [
      "Running on local URL:  http://127.0.0.1:7875\n",
      "\n",
      "To create a public link, set `share=True` in `launch()`.\n"
     ]
    },
    {
     "data": {
      "text/html": [
       "<div><iframe src=\"http://127.0.0.1:7875/\" width=\"900\" height=\"500\" allow=\"autoplay; camera; microphone;\" frameborder=\"0\" allowfullscreen></iframe></div>"
      ],
      "text/plain": [
       "<IPython.core.display.HTML object>"
      ]
     },
     "metadata": {},
     "output_type": "display_data"
    },
    {
     "data": {
      "text/plain": [
       "(<gradio.routes.App at 0x1f9fe7835e0>, 'http://127.0.0.1:7875/', None)"
      ]
     },
     "execution_count": 25,
     "metadata": {},
     "output_type": "execute_result"
    },
    {
     "name": "stdout",
     "output_type": "stream",
     "text": [
      "{'Protein0': 'AAAA'}\n",
      "{'Protein0': 'AAAA', 'Protein0_6X His': 'AAAAHHHHHH'}\n",
      "{'Protein0': 'AAAA', 'Protein0_6X His': 'AAAAHHHHHH', 'Protein0_CBP': 'AAAAKRRWKKNFIAVSAANRFKKISSSGAL'}\n",
      "{'Protein0': 'AAAA', 'Protein0_6X His': 'AAAAHHHHHH', 'Protein0_CBP': 'AAAAKRRWKKNFIAVSAANRFKKISSSGAL', 'Protein0_CBD + 3G': 'AAAAGGGTNPGVSAWQVNTAYTAGQLVTYNGKTYKCLQPHTSLAGWEPSNVPALWQLQ'}\n",
      "{'Protein0': 'AAAA', 'Protein0_6X His': 'AAAAHHHHHH', 'Protein0_CBP': 'AAAAKRRWKKNFIAVSAANRFKKISSSGAL', 'Protein0_CBD + 3G': 'AAAAGGGTNPGVSAWQVNTAYTAGQLVTYNGKTYKCLQPHTSLAGWEPSNVPALWQLQ', 'Protein0_mNEONGreen + 5G': 'AAAAGGGGGMVSKGEEDNMASLPATHELHIFGSINGVDFDMVGQGTGNPNDGYEELNLKSTKGDLQFSPWILVPHIGYGFHQYLPYPDGMSPFQAAMVDGSGYQVHRTMQFEDGASLTVNYRYTYEGSHIKGEAQVKGTGFPADGPVMTNSLTAADWCRSKKTYPNDKTIISTFKWSYTTGNGKRYRSTARTTYTFAKPMAANYLKNQPMYVFRKTELKHSKTELNFKEWQKAFTDVMGMDELYK'}\n",
      "{'Protein0': 'AAA', 'Protein0_6X His': 'AAAHHHHHH', 'Protein1': 'BBB', 'Protein1_6X His': 'BBBHHHHHH'}\n",
      "{'Protein0': 'AAA', 'Protein0_6X His': 'AAAHHHHHH', 'Protein0_CBP': 'AAAKRRWKKNFIAVSAANRFKKISSSGAL', 'Protein1': 'BBB', 'Protein1_6X His': 'BBBHHHHHH', 'Protein1_CBP': 'BBBKRRWKKNFIAVSAANRFKKISSSGAL'}\n"
     ]
    }
   ],
   "source": [
    "# Interface to determine number of proteins to compare where n is the number of proteins\n",
    "# 1 <= n <= 10\n",
    "\n",
    "glo_tags = \"empty\"\n",
    "\n",
    "def count_protein(quantity):\n",
    "    if (quantity == 1):\n",
    "        return gr.Textbox.update(lines=1, visible=True,value=\"Enter protein sequence.\")\n",
    "    else:\n",
    "        return gr.Textbox.update(lines=quantity, visible=True,value=\"Enter protein sequences separated by a semicolon\\nEnter a new sequence per line.\")\n",
    "\n",
    "def parse_choices(protein_num,seq_string,tag_choices):\n",
    "    glo_tags = str(protein_num) + \"\\nStrings: \" + seq_string +\"\\nTags:\" + \" \".join(tag_choices)\n",
    "    variant_dict = process_variants(process_str(seq_string),tag_choices)\n",
    "    return glo_tags\n",
    "\n",
    "def process_str(seq_string):\n",
    "    seq_list = seq_string.split(\";\\n\")\n",
    "    return seq_list\n",
    "\n",
    "def process_variants(seq_list,tag_choices):\n",
    "    variant_list = {}\n",
    "    for seq_index in range (0,len(seq_list)):\n",
    "        ori_seq = \"Protein\" + str(seq_index)\n",
    "        variant_list[ori_seq] = seq_list[seq_index]\n",
    "        for tag in tag_choices:\n",
    "            variant_name = ori_seq + \"_\" + tag\n",
    "            variant_seq = seq_list[seq_index] + tag_sequences[tag]\n",
    "            variant_list[variant_name] = variant_seq\n",
    "    return variant_list\n",
    "        \n",
    "\n",
    "with gr.Blocks() as demo:\n",
    "    gr.Markdown(\n",
    "    \"\"\"\n",
    "    # Protein TAG Analyzer\n",
    "    Configure below:\n",
    "    \"\"\")\n",
    "    slider = gr.Slider(1,10,1,step=1,label=\"Number of Protein(s)\")\n",
    "    text = gr.Textbox(lines=1, interactive=True,value=\"Enter protein sequence.\",label=\"Protein Sequence(s)\")\n",
    "    checkgroup = gr.CheckboxGroup([\"6X His\",\"CBP\",\"CBD + 3G\",\"mNEONGreen + 5G\"],label=\"Select TAGs\")\n",
    "    generate = gr.Button()\n",
    "    with gr.Row():\n",
    "            with gr.Column(scale=1):\n",
    "                text1 = gr.Textbox()\n",
    "    \n",
    "    slider.change(fn=count_protein,inputs=slider,outputs=text)\n",
    "    generate.click(fn=parse_choices,inputs=[slider,text,checkgroup],outputs=text1)\n",
    "\n",
    "demo.launch()\n",
    "    "
   ]
  },
  {
   "cell_type": "code",
   "execution_count": 45,
   "id": "92f9a6b7",
   "metadata": {},
   "outputs": [
    {
     "name": "stdout",
     "output_type": "stream",
     "text": [
      "empty\n"
     ]
    }
   ],
   "source": [
    "print(glo_tags)"
   ]
  },
  {
   "cell_type": "code",
   "execution_count": null,
   "id": "229a1bc6",
   "metadata": {},
   "outputs": [],
   "source": []
  },
  {
   "cell_type": "code",
   "execution_count": null,
   "id": "66cf5096",
   "metadata": {},
   "outputs": [],
   "source": []
  },
  {
   "cell_type": "code",
   "execution_count": null,
   "id": "db9b9dde",
   "metadata": {},
   "outputs": [],
   "source": []
  }
 ],
 "metadata": {
  "kernelspec": {
   "display_name": "Python 3 (ipykernel)",
   "language": "python",
   "name": "python3"
  },
  "language_info": {
   "codemirror_mode": {
    "name": "ipython",
    "version": 3
   },
   "file_extension": ".py",
   "mimetype": "text/x-python",
   "name": "python",
   "nbconvert_exporter": "python",
   "pygments_lexer": "ipython3",
   "version": "3.10.4"
  }
 },
 "nbformat": 4,
 "nbformat_minor": 5
}
