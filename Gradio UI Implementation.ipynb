{
 "cells": [
  {
   "cell_type": "code",
   "execution_count": 1,
   "id": "e34940fe",
   "metadata": {},
   "outputs": [],
   "source": [
    "import gradio  as gr"
   ]
  },
  {
   "cell_type": "code",
   "execution_count": null,
   "id": "689cd310",
   "metadata": {},
   "outputs": [],
   "source": []
  },
  {
   "cell_type": "code",
   "execution_count": 85,
   "id": "33c4693f",
   "metadata": {},
   "outputs": [
    {
     "name": "stdout",
     "output_type": "stream",
     "text": [
      "Running on local URL:  http://127.0.0.1:7906\n",
      "\n",
      "To create a public link, set `share=True` in `launch()`.\n"
     ]
    },
    {
     "data": {
      "text/html": [
       "<div><iframe src=\"http://127.0.0.1:7906/\" width=\"900\" height=\"500\" allow=\"autoplay; camera; microphone;\" frameborder=\"0\" allowfullscreen></iframe></div>"
      ],
      "text/plain": [
       "<IPython.core.display.HTML object>"
      ]
     },
     "metadata": {},
     "output_type": "display_data"
    },
    {
     "data": {
      "text/plain": [
       "(<gradio.routes.App at 0x1c0a5771b10>, 'http://127.0.0.1:7906/', None)"
      ]
     },
     "execution_count": 85,
     "metadata": {},
     "output_type": "execute_result"
    }
   ],
   "source": [
    "# Interface to determine number of proteins to compare where n is the number of proteins\n",
    "# 1 <= n <= 10\n",
    "\n",
    "def count_protein(quantity):\n",
    "    if (quantity == 1):\n",
    "        return gr.Textbox.update(lines=1, visible=True,value=\"Enter protein sequence.\")\n",
    "    else:\n",
    "        return gr.Textbox.update(lines=quantity, visible=True,value=\"Enter protein sequences separated by a semicolon\\nEnter a new sequence per line.\")\n",
    "\n",
    "with gr.Blocks() as demo:\n",
    "    gr.Markdown(\n",
    "    \"\"\"\n",
    "    # Protein TAG Analyzer\n",
    "    Configure below:\n",
    "    \"\"\")\n",
    "    slider = gr.Slider(1,10,1,step=1,label=\"Number of Protein(s)\")\n",
    "    text = gr.Textbox(lines=1, interactive=True,value=\"Enter protein sequence.\",label=\"Protein Sequence(s)\")\n",
    "    checkgroup = gr.CheckboxGroup([\"6X His\",\"CBP\",\"CBD + 3G\",\"mNEONGreen + 5G\"],label=\"Select TAGs\")\n",
    "    generate = gr.Button()\n",
    "    \n",
    "    slider.change(fn=count_protein,inputs=slider,outputs=text)\n",
    "\n",
    "demo.launch()\n",
    "    "
   ]
  },
  {
   "cell_type": "code",
   "execution_count": 57,
   "id": "92f9a6b7",
   "metadata": {},
   "outputs": [
    {
     "ename": "NameError",
     "evalue": "name 'gradio' is not defined",
     "output_type": "error",
     "traceback": [
      "\u001b[1;31m---------------------------------------------------------------------------\u001b[0m",
      "\u001b[1;31mNameError\u001b[0m                                 Traceback (most recent call last)",
      "Cell \u001b[1;32mIn [57], line 1\u001b[0m\n\u001b[1;32m----> 1\u001b[0m \u001b[38;5;28;01mwith\u001b[39;00m \u001b[43mgradio\u001b[49m\u001b[38;5;241m.\u001b[39mBlocks() \u001b[38;5;28;01mas\u001b[39;00m demo:\n\u001b[0;32m      2\u001b[0m     \u001b[38;5;28;01mwith\u001b[39;00m gradio\u001b[38;5;241m.\u001b[39mRow():\n\u001b[0;32m      3\u001b[0m         gr\u001b[38;5;241m.\u001b[39mImage(\u001b[38;5;124m\"\u001b[39m\u001b[38;5;124mlion.jpg\u001b[39m\u001b[38;5;124m\"\u001b[39m)\n",
      "\u001b[1;31mNameError\u001b[0m: name 'gradio' is not defined"
     ]
    }
   ],
   "source": []
  },
  {
   "cell_type": "code",
   "execution_count": null,
   "id": "229a1bc6",
   "metadata": {},
   "outputs": [],
   "source": []
  }
 ],
 "metadata": {
  "kernelspec": {
   "display_name": "Python 3 (ipykernel)",
   "language": "python",
   "name": "python3"
  },
  "language_info": {
   "codemirror_mode": {
    "name": "ipython",
    "version": 3
   },
   "file_extension": ".py",
   "mimetype": "text/x-python",
   "name": "python",
   "nbconvert_exporter": "python",
   "pygments_lexer": "ipython3",
   "version": "3.10.4"
  }
 },
 "nbformat": 4,
 "nbformat_minor": 5
}
