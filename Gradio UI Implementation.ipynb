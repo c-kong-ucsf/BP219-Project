{
 "cells": [
  {
   "cell_type": "code",
   "execution_count": 2,
   "id": "e34940fe",
   "metadata": {},
   "outputs": [],
   "source": [
    "import gradio  as gr"
   ]
  },
  {
   "cell_type": "code",
   "execution_count": 47,
   "id": "33c4693f",
   "metadata": {},
   "outputs": [
    {
     "name": "stdout",
     "output_type": "stream",
     "text": [
      "Running on local URL:  http://127.0.0.1:7881\n",
      "\n",
      "To create a public link, set `share=True` in `launch()`.\n"
     ]
    },
    {
     "data": {
      "text/html": [
       "<div><iframe src=\"http://127.0.0.1:7881/\" width=\"900\" height=\"500\" allow=\"autoplay; camera; microphone;\" frameborder=\"0\" allowfullscreen></iframe></div>"
      ],
      "text/plain": [
       "<IPython.core.display.HTML object>"
      ]
     },
     "metadata": {},
     "output_type": "display_data"
    },
    {
     "data": {
      "text/plain": [
       "(<gradio.routes.App at 0x137128c62c0>, 'http://127.0.0.1:7881/', None)"
      ]
     },
     "execution_count": 47,
     "metadata": {},
     "output_type": "execute_result"
    }
   ],
   "source": [
    "# Interface to determine number of proteins to compare where n is the number of proteins\n",
    "# 1 <= n <= 10\n",
    "\n",
    "glo_tags = \"empty\"\n",
    "\n",
    "def count_protein(quantity):\n",
    "    if (quantity == 1):\n",
    "        return gr.Textbox.update(lines=1, visible=True,value=\"Enter protein sequence.\")\n",
    "    else:\n",
    "        return gr.Textbox.update(lines=quantity, visible=True,value=\"Enter protein sequences separated by a semicolon\\nEnter a new sequence per line.\")\n",
    "\n",
    "def parse_choices(choice_list):\n",
    "    print(choice_list)\n",
    "    glo_tags = choice_list\n",
    "    return choice_list\n",
    "    \n",
    "with gr.Blocks() as demo:\n",
    "    gr.Markdown(\n",
    "    \"\"\"\n",
    "    # Protein TAG Analyzer\n",
    "    Configure below:\n",
    "    \"\"\")\n",
    "    slider = gr.Slider(1,10,1,step=1,label=\"Number of Protein(s)\")\n",
    "    text = gr.Textbox(lines=1, interactive=True,value=\"Enter protein sequence.\",label=\"Protein Sequence(s)\")\n",
    "    checkgroup = gr.CheckboxGroup([\"6X His\",\"CBP\",\"CBD + 3G\",\"mNEONGreen + 5G\"],label=\"Select TAGs\")\n",
    "    generate = gr.Button()\n",
    "    with gr.Row():\n",
    "            with gr.Column(scale=1):\n",
    "                text1 = gr.Textbox()\n",
    "    \n",
    "    slider.change(fn=count_protein,inputs=slider,outputs=text)\n",
    "    generate.click(fn=parse_choices,inputs=text,outputs=text1)\n",
    "\n",
    "demo.launch()\n",
    "    "
   ]
  },
  {
   "cell_type": "code",
   "execution_count": 45,
   "id": "92f9a6b7",
   "metadata": {},
   "outputs": [
    {
     "name": "stdout",
     "output_type": "stream",
     "text": [
      "empty\n"
     ]
    }
   ],
   "source": [
    "print(glo_tags)"
   ]
  },
  {
   "cell_type": "code",
   "execution_count": null,
   "id": "229a1bc6",
   "metadata": {},
   "outputs": [],
   "source": []
  },
  {
   "cell_type": "code",
   "execution_count": null,
   "id": "66cf5096",
   "metadata": {},
   "outputs": [],
   "source": []
  },
  {
   "cell_type": "code",
   "execution_count": null,
   "id": "db9b9dde",
   "metadata": {},
   "outputs": [],
   "source": []
  }
 ],
 "metadata": {
  "kernelspec": {
   "display_name": "Python 3 (ipykernel)",
   "language": "python",
   "name": "python3"
  },
  "language_info": {
   "codemirror_mode": {
    "name": "ipython",
    "version": 3
   },
   "file_extension": ".py",
   "mimetype": "text/x-python",
   "name": "python",
   "nbconvert_exporter": "python",
   "pygments_lexer": "ipython3",
   "version": "3.10.4"
  }
 },
 "nbformat": 4,
 "nbformat_minor": 5
}
