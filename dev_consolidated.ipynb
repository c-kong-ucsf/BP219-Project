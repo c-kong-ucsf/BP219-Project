{
 "cells": [
  {
   "cell_type": "markdown",
   "metadata": {
    "colab_type": "text",
    "id": "view-in-github"
   },
   "source": [
    "<a href=\"https://colab.research.google.com/github/c-kong-ucsf/TAGScreeningProject/blob/main/dev_consolidated.ipynb\" target=\"_parent\"><img src=\"https://colab.research.google.com/assets/colab-badge.svg\" alt=\"Open In Colab\"/></a>"
   ]
  },
  {
   "cell_type": "markdown",
   "metadata": {
    "id": "5Sf6iXnzMV4a"
   },
   "source": []
  },
  {
   "cell_type": "code",
   "execution_count": 8,
   "metadata": {
    "colab": {
     "base_uri": "https://localhost:8080/",
     "height": 901
    },
    "id": "4v8mrwrAlWT-",
    "outputId": "bb5b4b7d-2d47-4a53-ca75-c694d117d6b3"
   },
   "outputs": [
    {
     "name": "stdout",
     "output_type": "stream",
     "text": [
      "Drive already mounted at /content/drive; to attempt to forcibly remount, call drive.mount(\"/content/drive\", force_remount=True).\n",
      "Looking in indexes: https://pypi.org/simple, https://us-python.pkg.dev/colab-wheels/public/simple/\n",
      "Requirement already satisfied: Bio in /usr/local/lib/python3.7/dist-packages (1.4.0)\n",
      "Requirement already satisfied: requests in /usr/local/lib/python3.7/dist-packages (from Bio) (2.23.0)\n",
      "Requirement already satisfied: biopython>=1.79 in /usr/local/lib/python3.7/dist-packages (from Bio) (1.79)\n",
      "Requirement already satisfied: tqdm in /usr/local/lib/python3.7/dist-packages (from Bio) (4.64.1)\n",
      "Requirement already satisfied: mygene in /usr/local/lib/python3.7/dist-packages (from Bio) (3.2.2)\n",
      "Requirement already satisfied: numpy in /usr/local/lib/python3.7/dist-packages (from biopython>=1.79->Bio) (1.21.6)\n",
      "Requirement already satisfied: biothings-client>=0.2.6 in /usr/local/lib/python3.7/dist-packages (from mygene->Bio) (0.2.6)\n",
      "Requirement already satisfied: certifi>=2017.4.17 in /usr/local/lib/python3.7/dist-packages (from requests->Bio) (2022.6.15)\n",
      "Requirement already satisfied: chardet<4,>=3.0.2 in /usr/local/lib/python3.7/dist-packages (from requests->Bio) (3.0.4)\n",
      "Requirement already satisfied: urllib3!=1.25.0,!=1.25.1,<1.26,>=1.21.1 in /usr/local/lib/python3.7/dist-packages (from requests->Bio) (1.24.3)\n",
      "Requirement already satisfied: idna<3,>=2.5 in /usr/local/lib/python3.7/dist-packages (from requests->Bio) (2.10)\n",
      "Residues:  749\n",
      "Other:     0\n",
      "Residues2: 749\n",
      "Other2:    0\n",
      "749 amino acids selected for alignment and RMSD calculation\n",
      "2.327395039696388\n",
      "5.561542807408106\n",
      "4.219305812849976\n",
      "3.878207090476452\n"
     ]
    },
    {
     "name": "stderr",
     "output_type": "stream",
     "text": [
      "/usr/local/lib/python3.7/dist-packages/ipykernel_launcher.py:129: UserWarning: In Matplotlib 3.3 individual lines on a stem plot will be added as a LineCollection instead of individual lines. This significantly improves the performance of a stem plot. To remove this warning and switch to the new behaviour, set the \"use_line_collection\" keyword argument to True.\n"
     ]
    },
    {
     "ename": "NameError",
     "evalue": "ignored",
     "output_type": "error",
     "traceback": [
      "\u001b[0;31m---------------------------------------------------------------------------\u001b[0m",
      "\u001b[0;31mNameError\u001b[0m                                 Traceback (most recent call last)",
      "\u001b[0;32m<ipython-input-8-bedf6c82c943>\u001b[0m in \u001b[0;36m<module>\u001b[0;34m\u001b[0m\n\u001b[1;32m    128\u001b[0m \u001b[0mfig\u001b[0m\u001b[0;34m,\u001b[0m \u001b[0max\u001b[0m \u001b[0;34m=\u001b[0m \u001b[0mplt\u001b[0m\u001b[0;34m.\u001b[0m\u001b[0msubplots\u001b[0m\u001b[0;34m(\u001b[0m\u001b[0;34m)\u001b[0m\u001b[0;34m\u001b[0m\u001b[0;34m\u001b[0m\u001b[0m\n\u001b[1;32m    129\u001b[0m \u001b[0max\u001b[0m\u001b[0;34m.\u001b[0m\u001b[0mstem\u001b[0m\u001b[0;34m(\u001b[0m\u001b[0mx\u001b[0m\u001b[0;34m,\u001b[0m\u001b[0my\u001b[0m\u001b[0;34m)\u001b[0m\u001b[0;34m\u001b[0m\u001b[0;34m\u001b[0m\u001b[0m\n\u001b[0;32m--> 130\u001b[0;31m ax.set(xlim=(0,0),xticks= np.arrange(1,5),\n\u001b[0m\u001b[1;32m    131\u001b[0m        ylim=(0,10), yticks= np.arrange(1,10))\n",
      "\u001b[0;31mNameError\u001b[0m: name 'np' is not defined"
     ]
    },
    {
     "data": {
      "image/png": "[encoded data removed]",
      "text/plain": [
       "<Figure size 432x288 with 1 Axes>"
      ]
     },
     "metadata": {
      "needs_background": "light"
     },
     "output_type": "display_data"
    }
   ],
   "source": [
    "from google.colab import drive\n",
    "drive.mount('/content/drive')\n",
    "\n",
    "#master install block\n",
    "!pip install Bio\n",
    "\n",
    "#master import block\n",
    "import Bio\n",
    "from Bio import PDB\n",
    "import numpy\n",
    "import pandas as pd\n",
    "import re\n",
    "import glob \n",
    "import os\n",
    "from pathlib import Path\n",
    "import matplotlib.pyplot as plt\n",
    "\n",
    "##counting residues in default pdb(w/o tags) to determine which residues to run superimposition and subsequent RMSD measurement on in biopython\n",
    "parser= PDB.PDBParser()\n",
    "\n",
    "ref_structure = parser.get_structure(\"reference\", \"rank_1/a_4f680_unrelaxed_rank_1_model_3.pdb\")\n",
    "\n",
    "model = ref_structure[0]\n",
    "res_no= 0\n",
    "non_resi = 0\n",
    "\n",
    "for model in ref_structure:\n",
    "    for chain in model:\n",
    "        for r in chain.get_residues():\n",
    "            if r.id[0] == ' ':\n",
    "                res_no +=1\n",
    "            else:\n",
    "                non_resi +=1\n",
    "\n",
    "print (\"Residues:  %i\" % (res_no))\n",
    "print (\"Other:     %i\" % (non_resi))\n",
    "res_no2 = 0\n",
    "non_resi2 = 0\n",
    "for model in ref_structure:\n",
    "    for residue in model.get_residues():\n",
    "        if PDB.is_aa(residue):\n",
    "            res_no2 += 1\n",
    "\n",
    "        else:\n",
    "            non_resi2 += 1\n",
    "\n",
    "print (\"Residues2: %i\" % (res_no2))\n",
    "print (\"Other2:    %i\" % (non_resi2))\n",
    "res_count= res_no\n",
    "print(res_count,\"amino acids selected for alignment and RMSD calculation\")\n",
    "\n",
    "##running alignment  and subsequent MRSD calculation with Biopython (note: this code block predominantly came from https://gist.github.com/andersx/6354971)\n",
    "\n",
    "# Select what residues numbers you wish to align\n",
    "# and put them in a list\n",
    "start_id = 1\n",
    "end_id   = res_no\n",
    "atoms_to_be_aligned = range(start_id, end_id + 1)\n",
    "values=[]\n",
    "\n",
    "# for loop to iterate through tag PDB structures\n",
    "for filename in os.listdir('tagged_structures'):\n",
    "  f = 'tagged_structures/' + filename\n",
    "\n",
    "  # Get the structures\n",
    "  ref_structure = parser.get_structure(\"reference\", \"rank_1/a_4f680_unrelaxed_rank_1_model_3.pdb\")\n",
    "  sample_structure = parser.get_structure(\"sample\",f)\n",
    "\n",
    "  # Use the first model in the pdb-files for alignment\n",
    "  # Change the number 0 if you want to align to another structure\n",
    "  ref_model    = ref_structure[0]\n",
    "  sample_model = sample_structure[0]\n",
    "\n",
    "  # Make a list of the atoms (in the structures) you wish to align.\n",
    "  # In this case we use CA atoms whose index is in the specified range\n",
    "  ref_atoms = []\n",
    "  sample_atoms = []\n",
    "\n",
    "  # Iterate of all chains in the model in order to find all residues\n",
    "  for ref_chain in ref_model:\n",
    "    # Iterate of all residues in each model in order to find proper atoms\n",
    "    for ref_res in ref_chain:\n",
    "      # Check if residue number ( .get_id() ) is in the list\n",
    "      if ref_res.get_id()[1] in atoms_to_be_aligned:\n",
    "        # Append CA atom to list\n",
    "        ref_atoms.append(ref_res['CA'])\n",
    "\n",
    "  # Do the same for the sample structure\n",
    "  for sample_chain in sample_model:\n",
    "    for sample_res in sample_chain:\n",
    "      if sample_res.get_id()[1] in atoms_to_be_aligned:\n",
    "        sample_atoms.append(sample_res['CA'])\n",
    "\n",
    "  # Now we initiate the superimposer:\n",
    "  super_imposer = Bio.PDB.Superimposer()\n",
    "  super_imposer.set_atoms(ref_atoms, sample_atoms)\n",
    "  super_imposer.apply(sample_model.get_atoms())\n",
    "\n",
    "  # Print RMSD:\n",
    "  print(super_imposer.rms)\n",
    "  values.append(super_imposer.rms)\n",
    "\n",
    "\n",
    "  #a1_RMSD= super_imposer.rms\n",
    "\n",
    "  # Save the aligned version of 1UBQ.pdb\n",
    "  for i in range(1,5):      \n",
    "    io = Bio.PDB.PDBIO()\n",
    "    io.set_structure(sample_structure) \n",
    "    filename = \"a\" + str(i) + \"_aligned_.pdb\"\n",
    "    io.save(filename)\n",
    "    os.path.join(\"aligned/\",filename)\n",
    "\n",
    "#assembling pandas dataframe \n",
    "import pandas as pd\n",
    "data=['6XHIS', 'CBP', 'CBD', 'mNG']\n",
    "df = pd.DataFrame(data)\n",
    "df.columns= ['tag']\n",
    "#appending rmsd values to df\n",
    "df['RMSD_values_proteinx']= values\n",
    "\n",
    "#matplotlib-based plotting for tag variants of 1 protein\n",
    "import matplotlib.pyplot as plt\n",
    "x = df.loc[:, \"tag\"]\n",
    "y = df.loc[:, \"RMSD_values_proteinx\"]\n",
    "\n",
    "#plot\n",
    "fig, ax = plt.subplots()\n",
    "ax.stem(x,y)\n",
    "ax.set(xlim=(0,0),xticks= np.arrange(1,5),\n",
    "       ylim=(0,10), yticks= np.arrange(1,10))"
   ]
  },
  {
   "cell_type": "code",
   "execution_count": 2,
   "metadata": {
    "id": "ZWd8A5RWKkSS"
   },
   "outputs": [],
   "source": [
    "import pandas as pd\n",
    "import numpy as np\n",
    "\n",
    "df = pd.DataFrame({\n",
    "    'col_1': [0, 1, 2, 3],\n",
    "    'col_2': [4, 5, 6, 7]\n",
    "})"
   ]
  },
  {
   "cell_type": "code",
   "execution_count": 3,
   "metadata": {},
   "outputs": [
    {
     "name": "stdout",
     "output_type": "stream",
     "text": [
      "   col_1  col_2\n",
      "0      0      4\n",
      "1      1      5\n",
      "2      2      6\n",
      "3      3      7\n"
     ]
    }
   ],
   "source": [
    "print(df)"
   ]
  },
  {
   "cell_type": "code",
   "execution_count": 4,
   "metadata": {},
   "outputs": [
    {
     "data": {
      "image/png": "[encoded data removed]",
      "text/plain": [
       "<Figure size 640x480 with 1 Axes>"
      ]
     },
     "metadata": {},
     "output_type": "display_data"
    }
   ],
   "source": [
    "import numpy as np \n",
    "import matplotlib.pyplot as plt \n",
    "  \n",
    "X = ['Group A','Group B','Group C','Group D']\n",
    "Ygirls = [10,20,20,40]\n",
    "Zboys = [20,30,25,30]\n",
    "  \n",
    "X_axis = np.arange(len(X))\n",
    "  \n",
    "plt.bar(X_axis - 0.2, Ygirls, 0.4, label = 'Girls')\n",
    "plt.bar(X_axis + 0.2, Zboys, 0.4, label = 'Boys')\n",
    "  \n",
    "plt.xticks(X_axis, X)\n",
    "plt.xlabel(\"Groups\")\n",
    "plt.ylabel(\"Number of Students\")\n",
    "plt.title(\"Number of Students in each group\")\n",
    "plt.legend()\n",
    "plt.show()"
   ]
  },
  {
   "cell_type": "code",
   "execution_count": null,
   "metadata": {},
   "outputs": [],
   "source": []
  }
 ],
 "metadata": {
  "colab": {
   "authorship_tag": "ABX9TyOkPQG9hRDx9N3rZXEn0T2P",
   "collapsed_sections": [],
   "include_colab_link": true,
   "provenance": []
  },
  "kernelspec": {
   "display_name": "Python 3 (ipykernel)",
   "language": "python",
   "name": "python3"
  },
  "language_info": {
   "codemirror_mode": {
    "name": "ipython",
    "version": 3
   },
   "file_extension": ".py",
   "mimetype": "text/x-python",
   "name": "python",
   "nbconvert_exporter": "python",
   "pygments_lexer": "ipython3",
   "version": "3.10.4"
  }
 },
 "nbformat": 4,
 "nbformat_minor": 1
}
